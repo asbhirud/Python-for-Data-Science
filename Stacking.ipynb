{
 "cells": [
  {
   "cell_type": "code",
   "execution_count": 1,
   "id": "1d65b27d-2c41-475b-b276-f518254923bb",
   "metadata": {},
   "outputs": [],
   "source": [
    "from sklearn.ensemble import StackingClassifier"
   ]
  },
  {
   "cell_type": "code",
   "execution_count": 2,
   "id": "ef08aa0d-7ba5-4636-b47f-2da5bf7cff8d",
   "metadata": {},
   "outputs": [],
   "source": [
    "from sklearn.svm import SVC\n",
    "from sklearn.tree import DecisionTreeClassifier\n",
    "from sklearn.linear_model import LogisticRegression"
   ]
  },
  {
   "cell_type": "code",
   "execution_count": 6,
   "id": "762c6a20-d69f-4280-8eaf-dbcb4d4f00b6",
   "metadata": {},
   "outputs": [],
   "source": [
    "base_estimators = [(\"svc\", SVC(kernel=\"linear\")),\n",
    "                   (\"dt\", DecisionTreeClassifier(criterion=\"entropy\", max_depth=5)),\n",
    "                    (\"logreg\", LogisticRegression())]"
   ]
  },
  {
   "cell_type": "code",
   "execution_count": 7,
   "id": "30320a36-8bd2-4d3d-ae26-7a6fe62d5151",
   "metadata": {},
   "outputs": [],
   "source": [
    "model = DecisionTreeClassifier(criterion=\"entropy\", max_depth=5)"
   ]
  },
  {
   "cell_type": "code",
   "execution_count": 8,
   "id": "f5a24ae2-91b5-48c4-8870-43f66752e9f0",
   "metadata": {},
   "outputs": [],
   "source": [
    "sc = StackingClassifier(estimators=base_estimators, final_estimator=model, cv=5,\n",
    "                       n_jobs=-1, verbose=1)"
   ]
  },
  {
   "cell_type": "code",
   "execution_count": null,
   "id": "f7d50c7b-4372-46fc-9515-ba792fcb04f5",
   "metadata": {},
   "outputs": [],
   "source": [
    "sc.fit(X_tr, y_tr)"
   ]
  },
  {
   "cell_type": "code",
   "execution_count": null,
   "id": "372b3bab-ebc2-424c-a4d2-783456614be4",
   "metadata": {},
   "outputs": [],
   "source": [
    "sc.predict(X_te)"
   ]
  }
 ],
 "metadata": {
  "kernelspec": {
   "display_name": "Python 3 (ipykernel)",
   "language": "python",
   "name": "python3"
  },
  "language_info": {
   "codemirror_mode": {
    "name": "ipython",
    "version": 3
   },
   "file_extension": ".py",
   "mimetype": "text/x-python",
   "name": "python",
   "nbconvert_exporter": "python",
   "pygments_lexer": "ipython3",
   "version": "3.12.0"
  }
 },
 "nbformat": 4,
 "nbformat_minor": 5
}
