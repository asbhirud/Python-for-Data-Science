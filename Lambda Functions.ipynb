{
 "cells": [
  {
   "cell_type": "markdown",
   "id": "66e690fb-4342-4519-bad8-7fcf1b40bfc7",
   "metadata": {},
   "source": [
    "## Lambda Functions"
   ]
  },
  {
   "cell_type": "markdown",
   "id": "e3045026-b8c7-495b-830d-d1f59a21c3d1",
   "metadata": {},
   "source": [
    "* Lambda functions also called anonymous functions, because they are not defined with function name.\n",
    "* Lambda functions not starts with def keywords.\n",
    "* Lambda functions can take n numbers of input but can return only one output.\n",
    "* Mostly called for one line functions.\n",
    "* Mostly used with map, filter and reduce functions\n",
    "* syntax - lambda inputs: output_expression"
   ]
  },
  {
   "cell_type": "code",
   "execution_count": 1,
   "id": "025aeced-c057-486c-8eb5-949f8906a31b",
   "metadata": {},
   "outputs": [],
   "source": [
    "ls = [9,3,6,1,3,7,4,6,0]"
   ]
  },
  {
   "cell_type": "code",
   "execution_count": 2,
   "id": "826e6483-c801-4bca-870f-d8f212356790",
   "metadata": {},
   "outputs": [
    {
     "data": {
      "text/plain": [
       "[0, 1, 3, 3, 4, 6, 6, 7, 9]"
      ]
     },
     "execution_count": 2,
     "metadata": {},
     "output_type": "execute_result"
    }
   ],
   "source": [
    "sorted(ls)"
   ]
  },
  {
   "cell_type": "code",
   "execution_count": 3,
   "id": "060d39cf-8b77-413e-8390-3aada338930e",
   "metadata": {},
   "outputs": [],
   "source": [
    "ls2 = [(8, \"Shruti\"), (1, \"Rutuja\"), (5, \"Pankaj\"), (4, \"Sudeep\"), (2, \"Pranav\")]"
   ]
  },
  {
   "cell_type": "code",
   "execution_count": 4,
   "id": "a4806d0a-ed2b-4822-a5b6-291a4a563f05",
   "metadata": {},
   "outputs": [
    {
     "data": {
      "text/plain": [
       "[(1, 'Rutuja'), (2, 'Pranav'), (4, 'Sudeep'), (5, 'Pankaj'), (8, 'Shruti')]"
      ]
     },
     "execution_count": 4,
     "metadata": {},
     "output_type": "execute_result"
    }
   ],
   "source": [
    "sorted(ls2)"
   ]
  },
  {
   "cell_type": "code",
   "execution_count": 5,
   "id": "8f6dbd56-538d-4105-aa1a-7f72dae9ed9b",
   "metadata": {},
   "outputs": [
    {
     "data": {
      "text/plain": [
       "[(5, 'Pankaj'), (2, 'Pranav'), (1, 'Rutuja'), (8, 'Shruti'), (4, 'Sudeep')]"
      ]
     },
     "execution_count": 5,
     "metadata": {},
     "output_type": "execute_result"
    }
   ],
   "source": [
    "sorted(ls2, key= lambda x: x[1])"
   ]
  },
  {
   "cell_type": "code",
   "execution_count": 6,
   "id": "e3b0f662-df7d-49d5-a650-ddfa6db5d6d7",
   "metadata": {},
   "outputs": [],
   "source": [
    "# MAP - used to map over any iterable"
   ]
  },
  {
   "cell_type": "code",
   "execution_count": 7,
   "id": "3ec1710e-35fb-4a2b-8c38-22d010451b5b",
   "metadata": {},
   "outputs": [],
   "source": [
    "ls3 = [23, 34, 76, 25, 97]"
   ]
  },
  {
   "cell_type": "code",
   "execution_count": 8,
   "id": "bf93d875-ca62-4848-8af5-f634ada7cd9b",
   "metadata": {},
   "outputs": [
    {
     "data": {
      "text/plain": [
       "[529, 1156, 5776, 625, 9409]"
      ]
     },
     "execution_count": 8,
     "metadata": {},
     "output_type": "execute_result"
    }
   ],
   "source": [
    "list(map(lambda x : x**2, ls3))"
   ]
  },
  {
   "cell_type": "code",
   "execution_count": 9,
   "id": "95f0a983-3f98-496b-bff3-056580d7658f",
   "metadata": {},
   "outputs": [
    {
     "data": {
      "text/plain": [
       "['Odd', 'Even', 'Even', 'Odd', 'Odd']"
      ]
     },
     "execution_count": 9,
     "metadata": {},
     "output_type": "execute_result"
    }
   ],
   "source": [
    "num_list = []\n",
    "for i in ls3:\n",
    "    if i % 2 == 0:\n",
    "        num_list.append(\"Even\")\n",
    "    else:\n",
    "        num_list.append(\"Odd\")\n",
    "num_list"
   ]
  },
  {
   "cell_type": "code",
   "execution_count": 10,
   "id": "27498c6e-afeb-43d4-a780-6edcc32c5b25",
   "metadata": {},
   "outputs": [
    {
     "data": {
      "text/plain": [
       "['Odd', 'Even', 'Even', 'Odd', 'Odd']"
      ]
     },
     "execution_count": 10,
     "metadata": {},
     "output_type": "execute_result"
    }
   ],
   "source": [
    "list(map(lambda x : \"Even\" if x%2==0 else \"Odd\", ls3))"
   ]
  },
  {
   "cell_type": "code",
   "execution_count": 11,
   "id": "35a74f39-a7db-43cc-9f18-d4cbbe758381",
   "metadata": {},
   "outputs": [],
   "source": [
    "from random import randint"
   ]
  },
  {
   "cell_type": "code",
   "execution_count": 16,
   "id": "910821f4-c211-45c3-96f3-9c4a5cf6c780",
   "metadata": {},
   "outputs": [],
   "source": [
    "random_nums = [randint(1,100) for i in range(20)]"
   ]
  },
  {
   "cell_type": "code",
   "execution_count": 17,
   "id": "db34b07e-7dc7-4492-bf43-49deb3611744",
   "metadata": {},
   "outputs": [
    {
     "data": {
      "text/plain": [
       "[62, 74, 51, 91, 11, 64, 8, 91, 67, 19, 11, 63, 39, 55, 56, 27, 18, 10, 88, 99]"
      ]
     },
     "execution_count": 17,
     "metadata": {},
     "output_type": "execute_result"
    }
   ],
   "source": [
    "random_nums"
   ]
  },
  {
   "cell_type": "code",
   "execution_count": 18,
   "id": "dbecf38b-0db6-4295-b9a0-5d43204f9eaa",
   "metadata": {},
   "outputs": [],
   "source": [
    "# FILTER - Used to filter-out the iterable - only returns the element that matches\n",
    "# the given condition"
   ]
  },
  {
   "cell_type": "code",
   "execution_count": 19,
   "id": "92e648d0-a9a4-414d-b919-fb4eae638b3b",
   "metadata": {},
   "outputs": [
    {
     "data": {
      "text/plain": [
       "[62, 74, 64, 8, 56, 18, 10, 88]"
      ]
     },
     "execution_count": 19,
     "metadata": {},
     "output_type": "execute_result"
    }
   ],
   "source": [
    "list(filter(lambda x : x%2==0, random_nums))"
   ]
  },
  {
   "cell_type": "code",
   "execution_count": 20,
   "id": "89be6cc4-6383-423e-a803-2aadd96fb78d",
   "metadata": {},
   "outputs": [
    {
     "data": {
      "text/plain": [
       "[91, 91, 63, 56]"
      ]
     },
     "execution_count": 20,
     "metadata": {},
     "output_type": "execute_result"
    }
   ],
   "source": [
    "list(filter(lambda x : x%7==0, random_nums))"
   ]
  },
  {
   "cell_type": "code",
   "execution_count": 21,
   "id": "b104cd6f-498b-491a-8a10-650f4888f5db",
   "metadata": {},
   "outputs": [
    {
     "data": {
      "text/plain": [
       "[51, 91, 11, 91, 67, 19, 11, 63, 39, 55, 27, 99]"
      ]
     },
     "execution_count": 21,
     "metadata": {},
     "output_type": "execute_result"
    }
   ],
   "source": [
    "list(filter(lambda x : x%2!=0, random_nums))"
   ]
  },
  {
   "cell_type": "code",
   "execution_count": 22,
   "id": "927ae52e-2110-4a6c-818c-b3ccae5c377b",
   "metadata": {},
   "outputs": [],
   "source": [
    "# REDUCE - Used to return only aggrigate of the list or single element from list"
   ]
  },
  {
   "cell_type": "code",
   "execution_count": 23,
   "id": "dd499750-7c49-4a93-a751-77fcf1a6a7ec",
   "metadata": {},
   "outputs": [],
   "source": [
    "from functools import reduce"
   ]
  },
  {
   "cell_type": "code",
   "execution_count": 24,
   "id": "3defe7f3-dfe9-4dbc-a25e-7131efa56023",
   "metadata": {},
   "outputs": [
    {
     "data": {
      "text/plain": [
       "1004"
      ]
     },
     "execution_count": 24,
     "metadata": {},
     "output_type": "execute_result"
    }
   ],
   "source": [
    "reduce(lambda x, y: x+y, random_nums)"
   ]
  },
  {
   "cell_type": "code",
   "execution_count": 25,
   "id": "baa18efa-16b1-4ef6-9cfc-1fde1e693d8e",
   "metadata": {},
   "outputs": [
    {
     "data": {
      "text/plain": [
       "48963236126548315247785318809600"
      ]
     },
     "execution_count": 25,
     "metadata": {},
     "output_type": "execute_result"
    }
   ],
   "source": [
    "reduce(lambda x, y: x*y, random_nums)"
   ]
  },
  {
   "cell_type": "code",
   "execution_count": 26,
   "id": "ae710355-f362-44f3-8186-126aa68bc194",
   "metadata": {},
   "outputs": [
    {
     "data": {
      "text/plain": [
       "8"
      ]
     },
     "execution_count": 26,
     "metadata": {},
     "output_type": "execute_result"
    }
   ],
   "source": [
    "reduce(lambda x, y: x if x<y else y, random_nums)"
   ]
  },
  {
   "cell_type": "code",
   "execution_count": 27,
   "id": "f783a5f4-351d-4c9e-94bd-f8e230221b65",
   "metadata": {},
   "outputs": [
    {
     "data": {
      "text/plain": [
       "99"
      ]
     },
     "execution_count": 27,
     "metadata": {},
     "output_type": "execute_result"
    }
   ],
   "source": [
    "reduce(lambda x, y: x if x>y else y, random_nums)"
   ]
  },
  {
   "cell_type": "code",
   "execution_count": null,
   "id": "43f455fd-fa6e-4d66-97cb-084078e98a65",
   "metadata": {},
   "outputs": [],
   "source": []
  }
 ],
 "metadata": {
  "kernelspec": {
   "display_name": "Python 3 (ipykernel)",
   "language": "python",
   "name": "python3"
  },
  "language_info": {
   "codemirror_mode": {
    "name": "ipython",
    "version": 3
   },
   "file_extension": ".py",
   "mimetype": "text/x-python",
   "name": "python",
   "nbconvert_exporter": "python",
   "pygments_lexer": "ipython3",
   "version": "3.11.7"
  }
 },
 "nbformat": 4,
 "nbformat_minor": 5
}
